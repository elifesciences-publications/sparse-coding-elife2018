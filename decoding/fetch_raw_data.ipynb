{
 "cells": [
  {
   "cell_type": "code",
   "execution_count": 1,
   "metadata": {},
   "outputs": [],
   "source": [
    "# this is to load the useful part of the data from original data.\n",
    "# not runnable by outsiders."
   ]
  },
  {
   "cell_type": "code",
   "execution_count": 2,
   "metadata": {},
   "outputs": [],
   "source": [
    "import h5py"
   ]
  },
  {
   "cell_type": "code",
   "execution_count": 3,
   "metadata": {},
   "outputs": [],
   "source": [
    "data_to_collect = {\n",
    "    'A': 'monkeyA/NS_2250/corrected_20160313',\n",
    "    'B': 'monkeyB/NS_2250/corrected_20160313',\n",
    "}"
   ]
  },
  {
   "cell_type": "code",
   "execution_count": 4,
   "metadata": {},
   "outputs": [],
   "source": [
    "raw_file = '/home/yimengzh/tang-paper-2017/results/datasets/tang_neural_data.hdf5'"
   ]
  },
  {
   "cell_type": "code",
   "execution_count": 5,
   "metadata": {},
   "outputs": [],
   "source": [
    "def do():\n",
    "    for dataset_simple_name, dataset_actual_name in data_to_collect.items():\n",
    "        with h5py.File(raw_file, 'r') as f:\n",
    "            data_mean = f[dataset_actual_name + '/mean'][...]\n",
    "            data_all = f[dataset_actual_name + '/all'][...]\n",
    "            print(data_mean.shape, data_all.shape)\n",
    "            with h5py.File(f'data_{dataset_simple_name}.hdf5') as f_out:\n",
    "                if dataset_simple_name not in f_out:\n",
    "                    grp = f_out.create_group(dataset_simple_name)\n",
    "                    grp.create_dataset('all', data=data_all, compression='gzip', compression_opts=9)\n",
    "                    grp.create_dataset('mean', data=data_mean, compression='gzip', compression_opts=9)"
   ]
  },
  {
   "cell_type": "code",
   "execution_count": 6,
   "metadata": {},
   "outputs": [
    {
     "name": "stdout",
     "output_type": "stream",
     "text": [
      "(2250, 1225) (2250, 6, 1225)\n",
      "(2250, 982) (2250, 6, 982)\n"
     ]
    }
   ],
   "source": [
    "do()"
   ]
  }
 ],
 "metadata": {
  "kernelspec": {
   "display_name": "Python 3",
   "language": "python",
   "name": "python3"
  },
  "language_info": {
   "codemirror_mode": {
    "name": "ipython",
    "version": 3
   },
   "file_extension": ".py",
   "mimetype": "text/x-python",
   "name": "python",
   "nbconvert_exporter": "python",
   "pygments_lexer": "ipython3",
   "version": "3.6.4"
  }
 },
 "nbformat": 4,
 "nbformat_minor": 2
}
